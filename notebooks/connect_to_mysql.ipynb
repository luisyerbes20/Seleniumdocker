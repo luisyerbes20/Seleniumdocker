{
 "cells": [
  {
   "cell_type": "code",
   "execution_count": 1,
   "id": "c1bf963f-0614-42bb-87f4-96b057d0afa6",
   "metadata": {
    "tags": []
   },
   "outputs": [],
   "source": [
    "import pymysql"
   ]
  },
  {
   "cell_type": "code",
   "execution_count": 11,
   "id": "bf0a4397-7870-4615-abd3-186062df100a",
   "metadata": {
    "tags": []
   },
   "outputs": [],
   "source": [
    "conexion = pymysql.connect(host=\"192.168.48.3\", \n",
    "                           user=\"user\", \n",
    "                           passwd=\"password\", \n",
    "                           database=\"db\")"
   ]
  },
  {
   "cell_type": "code",
   "execution_count": 12,
   "id": "3a1e1c26-cbf2-431f-ad77-5de9f9c1c177",
   "metadata": {
    "tags": []
   },
   "outputs": [
    {
     "data": {
      "text/plain": [
       "<pymysql.connections.Connection at 0x7f1b28456f50>"
      ]
     },
     "execution_count": 12,
     "metadata": {},
     "output_type": "execute_result"
    }
   ],
   "source": [
    "conexion"
   ]
  },
  {
   "cell_type": "code",
   "execution_count": 13,
   "id": "0fb41552-dc87-40e0-9740-838839b03666",
   "metadata": {
    "tags": []
   },
   "outputs": [],
   "source": [
    "import pandas as a"
   ]
  },
  {
   "cell_type": "code",
   "execution_count": 2,
   "id": "b6eb2423-6421-47ca-978b-90f842d82bb0",
   "metadata": {
    "tags": []
   },
   "outputs": [],
   "source": [
    "conexion = pymysql.connect(host=\"mysql_db\", \n",
    "                           user=\"user\", \n",
    "                           passwd=\"password\", \n",
    "                           database=\"db\")"
   ]
  },
  {
   "cell_type": "code",
   "execution_count": 3,
   "id": "905b4687-ab0d-412e-8d14-0b2c4e62ff80",
   "metadata": {
    "tags": []
   },
   "outputs": [
    {
     "data": {
      "text/plain": [
       "<pymysql.connections.Connection at 0x7f002448ee10>"
      ]
     },
     "execution_count": 3,
     "metadata": {},
     "output_type": "execute_result"
    }
   ],
   "source": [
    "conexion"
   ]
  },
  {
   "cell_type": "code",
   "execution_count": null,
   "id": "d9ede87d-546a-4a4f-ae27-111cf18b2441",
   "metadata": {
    "tags": []
   },
   "outputs": [],
   "source": []
  },
  {
   "cell_type": "code",
   "execution_count": null,
   "id": "59c3ce6c-7e43-4736-b1b2-12e314eefb67",
   "metadata": {
    "tags": []
   },
   "outputs": [],
   "source": []
  },
  {
   "cell_type": "code",
   "execution_count": 1,
   "id": "467744db-e1cb-4974-9f57-5cc3a261ce12",
   "metadata": {
    "tags": []
   },
   "outputs": [
    {
     "name": "stdout",
     "output_type": "stream",
     "text": [
      "Collecting pymongo\n",
      "  Downloading pymongo-4.4.1-cp311-cp311-manylinux_2_17_x86_64.manylinux2014_x86_64.whl (607 kB)\n",
      "\u001b[2K     \u001b[90m━━━━━━━━━━━━━━━━━━━━━━━━━━━━━━━━━━━━━━━\u001b[0m \u001b[32m607.6/607.6 kB\u001b[0m \u001b[31m2.2 MB/s\u001b[0m eta \u001b[36m0:00:00\u001b[0ma \u001b[36m0:00:01\u001b[0m\n",
      "\u001b[?25hCollecting dnspython<3.0.0,>=1.16.0 (from pymongo)\n",
      "  Downloading dnspython-2.4.2-py3-none-any.whl (300 kB)\n",
      "\u001b[2K     \u001b[90m━━━━━━━━━━━━━━━━━━━━━━━━━━━━━━━━━━━━━━━\u001b[0m \u001b[32m300.4/300.4 kB\u001b[0m \u001b[31m3.1 MB/s\u001b[0m eta \u001b[36m0:00:00\u001b[0ma \u001b[36m0:00:01\u001b[0m\n",
      "\u001b[?25hInstalling collected packages: dnspython, pymongo\n",
      "Successfully installed dnspython-2.4.2 pymongo-4.4.1\n",
      "\u001b[33mWARNING: Running pip as the 'root' user can result in broken permissions and conflicting behaviour with the system package manager. It is recommended to use a virtual environment instead: https://pip.pypa.io/warnings/venv\u001b[0m\u001b[33m\n",
      "\u001b[0m"
     ]
    }
   ],
   "source": [
    "!pip install pymongo"
   ]
  },
  {
   "cell_type": "code",
   "execution_count": 2,
   "id": "91d69234-ab00-472e-948a-52b6b3f04f2f",
   "metadata": {
    "tags": []
   },
   "outputs": [
    {
     "name": "stdout",
     "output_type": "stream",
     "text": [
      "MongoClient(host=['mongi:27017'], document_class=dict, tz_aware=False, connect=True, serverselectiontimeoutms=10000)\n"
     ]
    }
   ],
   "source": [
    "import pymongo\n",
    "client = pymongo.MongoClient(\"mongi\", 27017,  serverSelectionTimeoutMS = 10000,username='root',password='rootpassword') \n",
    "print(client)"
   ]
  },
  {
   "cell_type": "code",
   "execution_count": 20,
   "id": "e5cbbd26-c794-476b-96d9-ac00e1945581",
   "metadata": {
    "tags": []
   },
   "outputs": [
    {
     "data": {
      "text/plain": [
       "<pymongo.results.InsertOneResult at 0x7f24020839d0>"
      ]
     },
     "execution_count": 20,
     "metadata": {},
     "output_type": "execute_result"
    }
   ],
   "source": [
    "mydb = client[\"Dolarcambio\"]\n",
    "\n",
    "mycol = mydb[\"cambiodiario\"]\n",
    "document = {'name': 'chocolate cake', 'price': 20, 'ingredients':['chocolate', 'flour', 'eggs']}\n",
    "mycol.insert_one(document)"
   ]
  },
  {
   "cell_type": "code",
   "execution_count": 3,
   "id": "82becda3-f879-45b1-bcc3-1229ff5f0c80",
   "metadata": {
    "tags": []
   },
   "outputs": [],
   "source": [
    "mydb = client[\"Dolarcambio\"]\n",
    "\n",
    "mycol = mydb[\"cambiodiario\"]"
   ]
  },
  {
   "cell_type": "code",
   "execution_count": 21,
   "id": "55f58626-dfea-482f-94af-ae01948dbaaa",
   "metadata": {
    "tags": []
   },
   "outputs": [
    {
     "name": "stdout",
     "output_type": "stream",
     "text": [
      "['Dolarcambio', 'admin', 'config', 'local']\n"
     ]
    }
   ],
   "source": [
    "print(client.list_database_names())"
   ]
  },
  {
   "cell_type": "code",
   "execution_count": 4,
   "id": "3d6f4fa3-1022-4f79-92ad-79607c47363a",
   "metadata": {
    "tags": []
   },
   "outputs": [
    {
     "name": "stdout",
     "output_type": "stream",
     "text": [
      "{'_id': ObjectId('64daf51bb2f926f1f9d75e88'), 'name': 'chocolate cake', 'price': 20, 'ingredients': ['chocolate', 'flour', 'eggs']}\n",
      "{'_id': ObjectId('64dafaf7dfe3dc6f6a1fcb5a'), 'rango_fechas': '01/08/2023 a 13/08/2023', '0': {'fecha': '01-08-2023', 'cambio': '16.730300'}, '1': {'fecha': '02-08-2023', 'cambio': '16.853300'}, '2': {'fecha': '03-08-2023', 'cambio': '17.019300'}, '3': {'fecha': '04-08-2023', 'cambio': '17.289200'}, '4': {'fecha': '07-08-2023', 'cambio': '17.055500'}, '5': {'fecha': '08-08-2023', 'cambio': '17.060800'}, '6': {'fecha': '09-08-2023', 'cambio': '17.112200'}, '7': {'fecha': '10-08-2023', 'cambio': '17.076700'}, '8': {'fecha': '11-08-2023', 'cambio': '16.954800'}}\n",
      "{'_id': ObjectId('64dba06cb7f04645edeba407'), 'rango_fechas': '01/08/2023 a 13/08/2023', '0': {'fecha': '01-08-2023', 'cambio': '16.730300'}, '1': {'fecha': '02-08-2023', 'cambio': '16.853300'}, '2': {'fecha': '03-08-2023', 'cambio': '17.019300'}, '3': {'fecha': '04-08-2023', 'cambio': '17.289200'}, '4': {'fecha': '07-08-2023', 'cambio': '17.055500'}, '5': {'fecha': '08-08-2023', 'cambio': '17.060800'}, '6': {'fecha': '09-08-2023', 'cambio': '17.112200'}, '7': {'fecha': '10-08-2023', 'cambio': '17.076700'}, '8': {'fecha': '11-08-2023', 'cambio': '16.954800'}}\n"
     ]
    }
   ],
   "source": [
    "dessert = mycol.find()\n",
    "# Print each Document\n",
    "for des in dessert:\n",
    "    print(des)"
   ]
  }
 ],
 "metadata": {
  "kernelspec": {
   "display_name": "Python 3 (ipykernel)",
   "language": "python",
   "name": "python3"
  },
  "language_info": {
   "codemirror_mode": {
    "name": "ipython",
    "version": 3
   },
   "file_extension": ".py",
   "mimetype": "text/x-python",
   "name": "python",
   "nbconvert_exporter": "python",
   "pygments_lexer": "ipython3",
   "version": "3.11.4"
  }
 },
 "nbformat": 4,
 "nbformat_minor": 5
}
